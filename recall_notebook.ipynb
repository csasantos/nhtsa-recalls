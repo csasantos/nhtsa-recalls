{
 "cells": [
  {
   "cell_type": "code",
   "execution_count": 173,
   "metadata": {
    "collapsed": false
   },
   "outputs": [],
   "source": [
    "#Importing all needed libraries\n",
    "%matplotlib inline\n",
    "import pandas as pd\n",
    "import numpy as np\n",
    "import os\n",
    "import matplotlib.pyplot as plt\n",
    "import matplotlib.dates as mdates\n",
    "import matplotlib.ticker as ticker\n",
    "plt.style.use('ggplot')"
   ]
  },
  {
   "cell_type": "code",
   "execution_count": 174,
   "metadata": {
    "collapsed": false
   },
   "outputs": [],
   "source": [
    "#Find current working directory\n",
    "\n",
    "#Cath's\n",
    "#os.chdir('C://Users/Catharina/Documents/Python Scripts/')\n",
    "\n",
    "#Patrick's\n",
    "os.chdir('C://Users//PATWEB/Desktop')"
   ]
  },
  {
   "cell_type": "code",
   "execution_count": 175,
   "metadata": {
    "collapsed": false
   },
   "outputs": [],
   "source": [
    "#Reads in txt file and adds headers \n",
    "#[TODO] Cath, look at setting a specific type for column 18 \n",
    "df = pd.read_table('FLAT_RCL.txt', names = [\"Record_ID\",\"CAMPNO\",\"MAKETXT\",\"MODELTXT\",\n",
    "                                            \"YEARTXT\",\"MFGCAMPNO\",\"COMPNAME\",\"MFGNAME\",\n",
    "                                            \"BGMAN\",\"ENDMAN\",\"RCLTYPECD\",\"POTAFF\",\"ODATE\",\n",
    "                                            \"INFLUENCED_BY\",\"MFGTXT\",\"RCDATE\",\"DATEA\",\n",
    "                                            \"RPNO\",\"FMVSS\",\"DESC_DEFECT\",\"CONEQUENCE_DEFECT\",\n",
    "                                            \"CORRECTIVE_ACTION\",\"NOTES\",\"RCL_CMPT_ID\"] )"
   ]
  },
  {
   "cell_type": "code",
   "execution_count": 176,
   "metadata": {
    "collapsed": false
   },
   "outputs": [
    {
     "data": {
      "text/plain": [
       "(123532, 24)"
      ]
     },
     "execution_count": 176,
     "metadata": {},
     "output_type": "execute_result"
    }
   ],
   "source": [
    "#display dimensions of dataframe 'df'\n",
    "df.shape"
   ]
  },
  {
   "cell_type": "code",
   "execution_count": 177,
   "metadata": {
    "collapsed": false
   },
   "outputs": [
    {
     "name": "stderr",
     "output_type": "stream",
     "text": [
      "C:\\Users\\PATWEB\\AppData\\Local\\Enthought\\Canopy\\User\\lib\\site-packages\\ipykernel\\__main__.py:11: FutureWarning: sort(columns=....) is deprecated, use sort_values(by=.....)\n"
     ]
    }
   ],
   "source": [
    "#[TODO] Update sort_values to sort\n",
    "\n",
    "#converts content of column 'RCDATE' to desired timestamp format\n",
    "df['Timestamp']=pd.to_datetime(df['RCDATE'],format='%Y%m%d',errors='ignore')\n",
    "\n",
    "\n",
    "#create a column 'Year' \n",
    "df['Year'] = df['Timestamp'].apply(lambda x: \"%s\" %(x.year))\n",
    "\n",
    "#sort dataframe by the recall year in order to have 'month/year' groups in chronological order\n",
    "df=df.sort(columns='Year')\n",
    "\n",
    "#create 'Month/Year' column to prepare for grouping\n",
    "df['Week/Year'] = df['Timestamp'].apply(lambda x: \"%s/%s\" %(x.week, x.year))"
   ]
  },
  {
   "cell_type": "code",
   "execution_count": 178,
   "metadata": {
    "collapsed": false
   },
   "outputs": [
    {
     "name": "stderr",
     "output_type": "stream",
     "text": [
      "C:\\Users\\PATWEB\\AppData\\Local\\Enthought\\Canopy\\User\\lib\\site-packages\\ipykernel\\__main__.py:38: UserWarning: Boolean Series key will be reindexed to match DataFrame index.\n"
     ]
    }
   ],
   "source": [
    "#if column 'MAKETXT' lists 'MERCEDES' as content, rename to 'MERCEDES BENZ'\n",
    "df.ix[(df.MAKETXT=='MERCEDES'),['MAKETXT']]='MERCEDES BENZ'\n",
    "\n",
    "#if column 'MAKETXT' lists 'MERCEDES' as content, rename to 'MERCEDES BENZ'\n",
    "df.ix[(df.MAKETXT=='MERCEDES-BENZ'),['MAKETXT']]='MERCEDES BENZ'\n",
    "\n",
    "#Use when you want Audi, BMW, and Mercedes\n",
    "#We should refactor code to split the dataframe in one area. Aka the \"df\" should be something like ger_df\n",
    "df=df[(df['MAKETXT'].str.contains(\"AUDI|BMW|MERCEDES\")==True)\n",
    "    & (df['MAKETXT'].str.contains(\"AUDIOVOX\")==False)\n",
    "    & (df['MAKETXT'].str.contains(\"JL\")==False)]\n",
    "\n",
    "#Use when you want only Mercedes\n",
    "mb_df=df[(df['MAKETXT'].str.contains(\"MERCEDES\")==True)\n",
    "    & (df['MAKETXT'].str.contains(\"AUDIOVOX\")==False)\n",
    "    & (df['MAKETXT'].str.contains(\"JL\")==False)]\n",
    "\n",
    "#Use when you only want SUVs\n",
    "#This is a dirty hodgepodge of random search strings, but had to be done for now...\n",
    "suv_df=mb_df[(df['MODELTXT'].str.contains(\"M CLASS|\"\n",
    "                                         \"M-CLASS|\"\n",
    "                                         \"ML|\"\n",
    "                                         \"GL|\"\n",
    "                                         \"M\")==True)\n",
    "    & (df['MODELTXT'].str.contains(\"GLK|\"\n",
    "                                   \"GLC|\"\n",
    "                                   \"GLA|\"\n",
    "                                   \"MERCEDES|\"\n",
    "                                   \"MATS|\"\n",
    "                                   \"MAT|\"\n",
    "                                   \"BROU|\"\n",
    "                                   \"SMART|\"\n",
    "                                   \"CLA45|\"\n",
    "                                   \"SLR|\"\n",
    "                                   \"S63|\"\n",
    "                                   \"S65|\"\n",
    "                                   \"GT S|\"\n",
    "                                   \"METRIS\")==False)]"
   ]
  },
  {
   "cell_type": "code",
   "execution_count": 179,
   "metadata": {
    "collapsed": false
   },
   "outputs": [],
   "source": [
    "df = df.dropna(subset=['Timestamp', 'Year'])"
   ]
  },
  {
   "cell_type": "code",
   "execution_count": 180,
   "metadata": {
    "collapsed": false
   },
   "outputs": [
    {
     "data": {
      "text/plain": [
       "<bound method DataFrame.describe of                 POTAFF                           \n",
       "MAKETXT           AUDI          BMW MERCEDES BENZ\n",
       "Timestamp                                        \n",
       "1966-12-31         NaN          NaN        4910.0\n",
       "1971-12-31      3148.0     133590.0      103455.0\n",
       "1976-12-31     97567.0     307011.0      606481.0\n",
       "1981-12-31    294925.0     555756.0      273017.0\n",
       "1986-12-31   7326420.0    2050919.0      257524.0\n",
       "1991-12-31   3432318.0     773160.0     1721063.0\n",
       "1996-12-31   6834556.0   17808954.0     1492003.0\n",
       "2001-12-31   4364177.0   97118017.0      500421.0\n",
       "2006-12-31   5152177.0    8595439.0     5845877.0\n",
       "2011-12-31   1625122.0   20407633.0     5320436.0\n",
       "2016-12-31  13267968.0  168053032.0    61840359.0\n",
       "2021-12-31    668420.0     338660.0     1366836.0>"
      ]
     },
     "execution_count": 180,
     "metadata": {},
     "output_type": "execute_result"
    }
   ],
   "source": [
    "#Unstacking from multiindex series back to dataframe\n",
    "graphdata = df.groupby(by=['Timestamp','MAKETXT'])['POTAFF'].sum()\n",
    "graphdata = graphdata.reset_index().pivot(index='Timestamp', columns='MAKETXT')\n",
    "graphdata.index.to_datetime()\n",
    "\n",
    "#Look at address below for resample docs\n",
    "#http://pandas.pydata.org/pandas-docs/stable/timeseries.html#offset-aliases\n",
    "graphdata = graphdata.resample('5A').sum()\n",
    "\n",
    "graphdata.head()\n",
    "graphdata.describe"
   ]
  },
  {
   "cell_type": "code",
   "execution_count": 181,
   "metadata": {
    "collapsed": false,
    "scrolled": true
   },
   "outputs": [
    {
     "data": {
      "text/plain": [
       "\"\\nfig=plt.figure()\\nax=fig.add_subplot(111)\\nN=11\\n\\nAudiData=graphdata['POTAFF,Audi']\\nBMWData=graphdata['POTAFF,BMW']\\n\\nind = np.arange(N)\\nwidth=0.35\\n\\nAudi=ax.bar(ind,AudiData,width,\\n             color='black',\\n             error_kw=dict(elinewidth=2,ecolor='blue'))\\n\\nBMW=ax.bar(ind+width,BMWData,width,\\n             color='blue',\\n             error_kw=dict(elinewidth=2,ecolor='black'))\\n\\nax.set_xlim(-width,len(ind)+width)\\nax.set_ylim(0,40)\\nax.set_ylabel('Number of Vehicles')\\nax.set_title('Number of Vehicles by MB and Market')\\nxTickMarks=['Recall'+str(i) for i in range (1,5)]\\nax.set_xticks(ind+width)\\nxtickNames=ax.set_xticklabels(xTickMarks)\\nplt.setp(xtickNames, rotation=45, fontsize=10)\\n\\nax.legend((Audi[0], BMW[0]), ('MB', 'Market'))\\n\\nplt.show()\\n\\n\""
      ]
     },
     "execution_count": 181,
     "metadata": {},
     "output_type": "execute_result"
    }
   ],
   "source": [
    "'''\n",
    "fig=plt.figure()\n",
    "ax=fig.add_subplot(111)\n",
    "N=11\n",
    "\n",
    "AudiData=graphdata['POTAFF,Audi']\n",
    "BMWData=graphdata['POTAFF,BMW']\n",
    "\n",
    "ind = np.arange(N)\n",
    "width=0.35\n",
    "\n",
    "Audi=ax.bar(ind,AudiData,width,\n",
    "             color='black',\n",
    "             error_kw=dict(elinewidth=2,ecolor='blue'))\n",
    "\n",
    "BMW=ax.bar(ind+width,BMWData,width,\n",
    "             color='blue',\n",
    "             error_kw=dict(elinewidth=2,ecolor='black'))\n",
    "\n",
    "ax.set_xlim(-width,len(ind)+width)\n",
    "ax.set_ylim(0,40)\n",
    "ax.set_ylabel('Number of Vehicles')\n",
    "ax.set_title('Number of Vehicles by MB and Market')\n",
    "xTickMarks=['Recall'+str(i) for i in range (1,5)]\n",
    "ax.set_xticks(ind+width)\n",
    "xtickNames=ax.set_xticklabels(xTickMarks)\n",
    "plt.setp(xtickNames, rotation=45, fontsize=10)\n",
    "\n",
    "ax.legend((Audi[0], BMW[0]), ('MB', 'Market'))\n",
    "\n",
    "plt.show()\n",
    "\n",
    "'''"
   ]
  },
  {
   "cell_type": "code",
   "execution_count": 182,
   "metadata": {
    "collapsed": false,
    "scrolled": true
   },
   "outputs": [
    {
     "data": {
      "image/png": "[encoded data removed]",
      "text/plain": [
       "<matplotlib.figure.Figure at 0xac1d240>"
      ]
     },
     "metadata": {},
     "output_type": "display_data"
    }
   ],
   "source": [
    "#Graphing section\n",
    "ax = graphdata.plot(kind='bar', figsize= (10,7))\n",
    "fig = ax.get_figure()\n",
    "\n",
    "fig.suptitle('Recalled Vehicles over time', fontsize=20)\n",
    "\n",
    "ax.legend(loc=2,prop={'size':6})\n",
    "ax.legend([\"Audi\",\"BMW\",\"Mercedes\"], fontsize=8)\n",
    "\n",
    "ax.set_xlabel(\"Year\", fontsize=12)\n",
    "# Initializes all ticklables as blank\n",
    "xticklabels = ['']*len(graphdata.index)\n",
    "# Every 2nd ticklable shows the year\n",
    "ticklabels[::2] = [item.strftime('%Y') for item in graphdata.index[::2]]\n",
    "ax.xaxis.set_major_formatter(ticker.FixedFormatter(ticklabels))\n",
    "\n",
    "ax.set_ylabel(\"# of Vehicles\", fontsize=12)\n",
    "ax.set_yscale('log')\n",
    "\n",
    "fig.savefig(\"output.pdf\")"
   ]
  },
  {
   "cell_type": "code",
   "execution_count": 183,
   "metadata": {
    "collapsed": false
   },
   "outputs": [
    {
     "name": "stderr",
     "output_type": "stream",
     "text": [
      "C:\\Users\\PATWEB\\AppData\\Local\\Enthought\\Canopy\\User\\lib\\site-packages\\ipykernel\\__main__.py:6: SettingWithCopyWarning: \n",
      "A value is trying to be set on a copy of a slice from a DataFrame.\n",
      "Try using .loc[row_indexer,col_indexer] = value instead\n",
      "\n",
      "See the caveats in the documentation: http://pandas.pydata.org/pandas-docs/stable/indexing.html#indexing-view-versus-copy\n"
     ]
    }
   ],
   "source": [
    "#Attempt to make a pie chart showing all suv recall basic types\n",
    "\n",
    "#I'm looking at everything before the first colon in COMPNAME\n",
    "#Sombody might want to look into this error but it didn't make sens\n",
    "# to my 4:30 brain\n",
    "suv_df['COMPNAME'] = suv_df.COMPNAME.apply(lambda x: x[:x.find(\":\")])\n",
    "\n",
    "#Another problem is this will delete fields with no colon haha"
   ]
  },
  {
   "cell_type": "code",
   "execution_count": 185,
   "metadata": {
    "collapsed": false
   },
   "outputs": [],
   "source": [
    "suv_df.to_excel('comp.xlsx')"
   ]
  },
  {
   "cell_type": "code",
   "execution_count": null,
   "metadata": {
    "collapsed": true
   },
   "outputs": [],
   "source": []
  }
 ],
 "metadata": {
  "anaconda-cloud": {},
  "kernelspec": {
   "display_name": "Python 2",
   "language": "python",
   "name": "python2"
  },
  "language_info": {
   "codemirror_mode": {
    "name": "ipython",
    "version": 2
   },
   "file_extension": ".py",
   "mimetype": "text/x-python",
   "name": "python",
   "nbconvert_exporter": "python",
   "pygments_lexer": "ipython2",
   "version": "2.7.11"
  }
 },
 "nbformat": 4,
 "nbformat_minor": 1
}
