{
 "cells": [
  {
   "cell_type": "code",
   "execution_count": 35,
   "metadata": {
    "collapsed": false,
    "deletable": true,
    "editable": true
   },
   "outputs": [],
   "source": [
    "#Importing all needed libraries\n",
    "%matplotlib inline\n",
    "import pandas as pd\n",
    "import numpy as np\n",
    "import os\n",
    "import matplotlib.pyplot as plt\n",
    "import matplotlib.dates as mdates\n",
    "import matplotlib.ticker as ticker\n",
    "import codecs\n",
    "\n",
    "import datetime as dt\n",
    "from datetime import datetime\n",
    "\n",
    "plt.style.use('ggplot')"
   ]
  },
  {
   "cell_type": "code",
   "execution_count": 36,
   "metadata": {
    "collapsed": false,
    "deletable": true,
    "editable": true
   },
   "outputs": [],
   "source": [
    "#Find current working directory\n",
    "\n",
    "#Cath's\n",
    "os.chdir('C://Users/Catharina/Desktop/FLAT_RCL')\n",
    "\n",
    "#Patrick's\n",
    "#os.chdir('C://Users//PATWEB/Desktop')"
   ]
  },
  {
   "cell_type": "code",
   "execution_count": 37,
   "metadata": {
    "collapsed": true
   },
   "outputs": [],
   "source": [
    "names = [\"Record_ID\", \"CAMPNO\", \"MAKETXT\", \"MODELTXT\",\n",
    "    \"YEARTXT\", \"MFGCAMPNO\", \"COMPNAME\", \"MFGNAME\",\n",
    "    \"BGMAN\", \"ENDMAN\", \"RCLTYPECD\", \"POTAFF\", \"ODATE\",\n",
    "    \"INFLUENCED_BY\", \"MFGTXT\", \"RCDATE\", \"DATEA\",\n",
    "    \"RPNO\", \"FMVSS\", \"DESC_DEFECT\", \"CONEQUENCE_DEFECT\",\n",
    "    \"CORRECTIVE_ACTION\", \"NOTES\", \"RCL_CMPT_ID\"\n",
    "]"
   ]
  },
  {
   "cell_type": "code",
   "execution_count": 38,
   "metadata": {
    "collapsed": false
   },
   "outputs": [
    {
     "data": {
      "text/plain": [
       "list"
      ]
     },
     "execution_count": 38,
     "metadata": {},
     "output_type": "execute_result"
    }
   ],
   "source": [
    "type(names)"
   ]
  },
  {
   "cell_type": "code",
   "execution_count": 39,
   "metadata": {
    "collapsed": false
   },
   "outputs": [
    {
     "name": "stderr",
     "output_type": "stream",
     "text": [
      "c:\\program files (x86)\\python36-32\\lib\\site-packages\\IPython\\core\\interactiveshell.py:2717: DtypeWarning: Columns (18) have mixed types. Specify dtype option on import or set low_memory=False.\n",
      "  interactivity=interactivity, compiler=compiler, result=result)\n"
     ]
    }
   ],
   "source": [
    "with codecs.open('FLAT_RCL.txt', \"r\",encoding='utf-8', errors='ignore') as fdata:\n",
    "    df = pd.read_table(fdata, names=names, header=None)"
   ]
  },
  {
   "cell_type": "code",
   "execution_count": 40,
   "metadata": {
    "collapsed": false,
    "deletable": true,
    "editable": true,
    "scrolled": true
   },
   "outputs": [
    {
     "data": {
      "text/html": [
       "<div>\n",
       "<table border=\"1\" class=\"dataframe\">\n",
       "  <thead>\n",
       "    <tr style=\"text-align: right;\">\n",
       "      <th></th>\n",
       "      <th>Record_ID</th>\n",
       "      <th>CAMPNO</th>\n",
       "      <th>MAKETXT</th>\n",
       "      <th>MODELTXT</th>\n",
       "      <th>YEARTXT</th>\n",
       "      <th>MFGCAMPNO</th>\n",
       "      <th>COMPNAME</th>\n",
       "      <th>MFGNAME</th>\n",
       "      <th>BGMAN</th>\n",
       "      <th>ENDMAN</th>\n",
       "      <th>...</th>\n",
       "      <th>MFGTXT</th>\n",
       "      <th>RCDATE</th>\n",
       "      <th>DATEA</th>\n",
       "      <th>RPNO</th>\n",
       "      <th>FMVSS</th>\n",
       "      <th>DESC_DEFECT</th>\n",
       "      <th>CONEQUENCE_DEFECT</th>\n",
       "      <th>CORRECTIVE_ACTION</th>\n",
       "      <th>NOTES</th>\n",
       "      <th>RCL_CMPT_ID</th>\n",
       "    </tr>\n",
       "  </thead>\n",
       "  <tbody>\n",
       "    <tr>\n",
       "      <th>0</th>\n",
       "      <td>1</td>\n",
       "      <td>02V288000</td>\n",
       "      <td>FORD</td>\n",
       "      <td>FOCUS</td>\n",
       "      <td>2001</td>\n",
       "      <td>02S41</td>\n",
       "      <td>ELECTRICAL SYSTEM:BATTERY:CABLES</td>\n",
       "      <td>FORD MOTOR COMPANY</td>\n",
       "      <td>19990719.0</td>\n",
       "      <td>20010531.0</td>\n",
       "      <td>...</td>\n",
       "      <td>Ford Motor Company</td>\n",
       "      <td>20021106.0</td>\n",
       "      <td>20021106</td>\n",
       "      <td>NaN</td>\n",
       "      <td>NaN</td>\n",
       "      <td>CERTAIN PASSENGER VEHICLES EQUIPPED WITH ZETEC...</td>\n",
       "      <td>THIS, IN TURN, COULD CAUSE THE BATTERY CABLES ...</td>\n",
       "      <td>DEALERS WILL INSPECT THE BATTERY CABLES FOR TH...</td>\n",
       "      <td>ALSO CONTACT THE NATIONAL HIGHWAY TRAFFIC SAFE...</td>\n",
       "      <td>000015339000215022000000202</td>\n",
       "    </tr>\n",
       "    <tr>\n",
       "      <th>1</th>\n",
       "      <td>2</td>\n",
       "      <td>02V288000</td>\n",
       "      <td>FORD</td>\n",
       "      <td>FOCUS</td>\n",
       "      <td>2000</td>\n",
       "      <td>02S41</td>\n",
       "      <td>ELECTRICAL SYSTEM:BATTERY:CABLES</td>\n",
       "      <td>FORD MOTOR COMPANY</td>\n",
       "      <td>19990719.0</td>\n",
       "      <td>20010531.0</td>\n",
       "      <td>...</td>\n",
       "      <td>Ford Motor Company</td>\n",
       "      <td>20021106.0</td>\n",
       "      <td>20021106</td>\n",
       "      <td>NaN</td>\n",
       "      <td>NaN</td>\n",
       "      <td>CERTAIN PASSENGER VEHICLES EQUIPPED WITH ZETEC...</td>\n",
       "      <td>THIS, IN TURN, COULD CAUSE THE BATTERY CABLES ...</td>\n",
       "      <td>DEALERS WILL INSPECT THE BATTERY CABLES FOR TH...</td>\n",
       "      <td>ALSO CONTACT THE NATIONAL HIGHWAY TRAFFIC SAFE...</td>\n",
       "      <td>000015339000215021000000202</td>\n",
       "    </tr>\n",
       "    <tr>\n",
       "      <th>2</th>\n",
       "      <td>3</td>\n",
       "      <td>02V236000</td>\n",
       "      <td>JAYCO</td>\n",
       "      <td>FT EAGLE 10 SG</td>\n",
       "      <td>2003</td>\n",
       "      <td>NaN</td>\n",
       "      <td>EQUIPMENT:OTHER:LABELS</td>\n",
       "      <td>JAYCO, INC.</td>\n",
       "      <td>20020730.0</td>\n",
       "      <td>20020813.0</td>\n",
       "      <td>...</td>\n",
       "      <td>Jayco, Inc.</td>\n",
       "      <td>20020904.0</td>\n",
       "      <td>20020912</td>\n",
       "      <td>NaN</td>\n",
       "      <td>NaN</td>\n",
       "      <td>ON CERTAIN FOLDING TENT CAMPERS, THE FEDERAL C...</td>\n",
       "      <td>IF THE TIRES WERE INFLATED TO 80 PSI, THEY COU...</td>\n",
       "      <td>OWNERS WILL BE MAILED CORRECT LABELS FOR INSTA...</td>\n",
       "      <td>ALSO, CUSTOMERS CAN CONTACT THE NATIONAL HIGHW...</td>\n",
       "      <td>000015210000106403000000349</td>\n",
       "    </tr>\n",
       "    <tr>\n",
       "      <th>3</th>\n",
       "      <td>4</td>\n",
       "      <td>02V237000</td>\n",
       "      <td>HOLIDAY RAMBLER</td>\n",
       "      <td>ADMIRAL SE</td>\n",
       "      <td>2003</td>\n",
       "      <td>NaN</td>\n",
       "      <td>STRUCTURE</td>\n",
       "      <td>MONACO COACH CORP.</td>\n",
       "      <td>NaN</td>\n",
       "      <td>NaN</td>\n",
       "      <td>...</td>\n",
       "      <td>MONACO COACH CORPORATION</td>\n",
       "      <td>20020909.0</td>\n",
       "      <td>20020912</td>\n",
       "      <td>NaN</td>\n",
       "      <td>NaN</td>\n",
       "      <td>ON CERTAIN CLASS A MOTOR HOMES, THE FLOOR TRUS...</td>\n",
       "      <td>CONDITIONS CAN RESULT IN THE BOTTOMING OUT THE...</td>\n",
       "      <td>DEALERS WILL INSPECT THE FLOOR TRUSS NETWORK S...</td>\n",
       "      <td>CUSTOMERS CAN ALSO CONTACT THE NATIONAL HIGHWA...</td>\n",
       "      <td>000015211000106325000000272</td>\n",
       "    </tr>\n",
       "    <tr>\n",
       "      <th>4</th>\n",
       "      <td>5</td>\n",
       "      <td>02V237000</td>\n",
       "      <td>HOLIDAY RAMBLER</td>\n",
       "      <td>ADMIRAL SE</td>\n",
       "      <td>2002</td>\n",
       "      <td>NaN</td>\n",
       "      <td>STRUCTURE</td>\n",
       "      <td>MONACO COACH CORP.</td>\n",
       "      <td>NaN</td>\n",
       "      <td>NaN</td>\n",
       "      <td>...</td>\n",
       "      <td>MONACO COACH CORPORATION</td>\n",
       "      <td>20020909.0</td>\n",
       "      <td>20020912</td>\n",
       "      <td>NaN</td>\n",
       "      <td>NaN</td>\n",
       "      <td>ON CERTAIN CLASS A MOTOR HOMES, THE FLOOR TRUS...</td>\n",
       "      <td>CONDITIONS CAN RESULT IN THE BOTTOMING OUT THE...</td>\n",
       "      <td>DEALERS WILL INSPECT THE FLOOR TRUSS NETWORK S...</td>\n",
       "      <td>CUSTOMERS CAN ALSO CONTACT THE NATIONAL HIGHWA...</td>\n",
       "      <td>000015211000106324000000272</td>\n",
       "    </tr>\n",
       "  </tbody>\n",
       "</table>\n",
       "<p>5 rows × 24 columns</p>\n",
       "</div>"
      ],
      "text/plain": [
       "   Record_ID     CAMPNO          MAKETXT        MODELTXT  YEARTXT MFGCAMPNO  \\\n",
       "0          1  02V288000             FORD           FOCUS     2001     02S41   \n",
       "1          2  02V288000             FORD           FOCUS     2000     02S41   \n",
       "2          3  02V236000            JAYCO  FT EAGLE 10 SG     2003       NaN   \n",
       "3          4  02V237000  HOLIDAY RAMBLER      ADMIRAL SE     2003       NaN   \n",
       "4          5  02V237000  HOLIDAY RAMBLER      ADMIRAL SE     2002       NaN   \n",
       "\n",
       "                           COMPNAME             MFGNAME       BGMAN  \\\n",
       "0  ELECTRICAL SYSTEM:BATTERY:CABLES  FORD MOTOR COMPANY  19990719.0   \n",
       "1  ELECTRICAL SYSTEM:BATTERY:CABLES  FORD MOTOR COMPANY  19990719.0   \n",
       "2            EQUIPMENT:OTHER:LABELS         JAYCO, INC.  20020730.0   \n",
       "3                         STRUCTURE  MONACO COACH CORP.         NaN   \n",
       "4                         STRUCTURE  MONACO COACH CORP.         NaN   \n",
       "\n",
       "       ENDMAN             ...                                 MFGTXT  \\\n",
       "0  20010531.0             ...                     Ford Motor Company   \n",
       "1  20010531.0             ...                     Ford Motor Company   \n",
       "2  20020813.0             ...                            Jayco, Inc.   \n",
       "3         NaN             ...               MONACO COACH CORPORATION   \n",
       "4         NaN             ...               MONACO COACH CORPORATION   \n",
       "\n",
       "       RCDATE     DATEA RPNO FMVSS  \\\n",
       "0  20021106.0  20021106  NaN   NaN   \n",
       "1  20021106.0  20021106  NaN   NaN   \n",
       "2  20020904.0  20020912  NaN   NaN   \n",
       "3  20020909.0  20020912  NaN   NaN   \n",
       "4  20020909.0  20020912  NaN   NaN   \n",
       "\n",
       "                                         DESC_DEFECT  \\\n",
       "0  CERTAIN PASSENGER VEHICLES EQUIPPED WITH ZETEC...   \n",
       "1  CERTAIN PASSENGER VEHICLES EQUIPPED WITH ZETEC...   \n",
       "2  ON CERTAIN FOLDING TENT CAMPERS, THE FEDERAL C...   \n",
       "3  ON CERTAIN CLASS A MOTOR HOMES, THE FLOOR TRUS...   \n",
       "4  ON CERTAIN CLASS A MOTOR HOMES, THE FLOOR TRUS...   \n",
       "\n",
       "                                   CONEQUENCE_DEFECT  \\\n",
       "0  THIS, IN TURN, COULD CAUSE THE BATTERY CABLES ...   \n",
       "1  THIS, IN TURN, COULD CAUSE THE BATTERY CABLES ...   \n",
       "2  IF THE TIRES WERE INFLATED TO 80 PSI, THEY COU...   \n",
       "3  CONDITIONS CAN RESULT IN THE BOTTOMING OUT THE...   \n",
       "4  CONDITIONS CAN RESULT IN THE BOTTOMING OUT THE...   \n",
       "\n",
       "                                   CORRECTIVE_ACTION  \\\n",
       "0  DEALERS WILL INSPECT THE BATTERY CABLES FOR TH...   \n",
       "1  DEALERS WILL INSPECT THE BATTERY CABLES FOR TH...   \n",
       "2  OWNERS WILL BE MAILED CORRECT LABELS FOR INSTA...   \n",
       "3  DEALERS WILL INSPECT THE FLOOR TRUSS NETWORK S...   \n",
       "4  DEALERS WILL INSPECT THE FLOOR TRUSS NETWORK S...   \n",
       "\n",
       "                                               NOTES  \\\n",
       "0  ALSO CONTACT THE NATIONAL HIGHWAY TRAFFIC SAFE...   \n",
       "1  ALSO CONTACT THE NATIONAL HIGHWAY TRAFFIC SAFE...   \n",
       "2  ALSO, CUSTOMERS CAN CONTACT THE NATIONAL HIGHW...   \n",
       "3  CUSTOMERS CAN ALSO CONTACT THE NATIONAL HIGHWA...   \n",
       "4  CUSTOMERS CAN ALSO CONTACT THE NATIONAL HIGHWA...   \n",
       "\n",
       "                   RCL_CMPT_ID  \n",
       "0  000015339000215022000000202  \n",
       "1  000015339000215021000000202  \n",
       "2  000015210000106403000000349  \n",
       "3  000015211000106325000000272  \n",
       "4  000015211000106324000000272  \n",
       "\n",
       "[5 rows x 24 columns]"
      ]
     },
     "execution_count": 40,
     "metadata": {},
     "output_type": "execute_result"
    }
   ],
   "source": [
    "#display dimensions of dataframe 'df'\n",
    "df.shape\n",
    "df.head()"
   ]
  },
  {
   "cell_type": "code",
   "execution_count": 41,
   "metadata": {
    "collapsed": false,
    "deletable": true,
    "editable": true
   },
   "outputs": [
    {
     "name": "stderr",
     "output_type": "stream",
     "text": [
      "c:\\program files (x86)\\python36-32\\lib\\site-packages\\ipykernel\\__main__.py:11: FutureWarning: sort(columns=....) is deprecated, use sort_values(by=.....)\n"
     ]
    }
   ],
   "source": [
    "#[TODO] Update sort_values to sort\n",
    "\n",
    "#converts content of column 'RCDATE' to desired timestamp format\n",
    "df['Timestamp']=pd.to_datetime(df['RCDATE'],format='%Y%m%d',errors='ignore')\n",
    "\n",
    "\n",
    "#create a column 'Year' \n",
    "df['Year'] = df['Timestamp'].apply(lambda x: \"%s\" %(x.year))\n",
    "\n",
    "#sort dataframe by the recall year in order to have 'month/year' groups in chronological order\n",
    "df=df.sort(columns='Year')\n",
    "\n",
    "#create 'Month/Year' column to prepare for grouping\n",
    "df['Week/Year'] = df['Timestamp'].apply(lambda x: \"%s/%s\" %(x.week, x.year))"
   ]
  },
  {
   "cell_type": "code",
   "execution_count": 42,
   "metadata": {
    "collapsed": false,
    "deletable": true,
    "editable": true
   },
   "outputs": [
    {
     "name": "stderr",
     "output_type": "stream",
     "text": [
      "c:\\program files (x86)\\python36-32\\lib\\site-packages\\ipykernel\\__main__.py:38: UserWarning: Boolean Series key will be reindexed to match DataFrame index.\n"
     ]
    }
   ],
   "source": [
    "#if column 'MAKETXT' lists 'MERCEDES' as content, rename to 'MERCEDES BENZ'\n",
    "df.ix[(df.MAKETXT=='MERCEDES'),['MAKETXT']]='MERCEDES BENZ'\n",
    "\n",
    "#if column 'MAKETXT' lists 'MERCEDES' as content, rename to 'MERCEDES BENZ'\n",
    "df.ix[(df.MAKETXT=='MERCEDES-BENZ'),['MAKETXT']]='MERCEDES BENZ'\n",
    "\n",
    "#Use when you want Audi, BMW, and Mercedes\n",
    "#We should refactor code to split the dataframe in one area. Aka the \"df\" should be something like ger_df\n",
    "#df=df[(df['MAKETXT'].str.contains(\"AUDI|BMW|MERCEDES\")==True)\n",
    "#    & (df['MAKETXT'].str.contains(\"AUDIOVOX\")==False)\n",
    "#    & (df['MAKETXT'].str.contains(\"JL\")==False)]\n",
    "\n",
    "#Use when you want only Mercedes\n",
    "mb_df=df[(df['MAKETXT'].str.contains(\"MERCEDES BENZ\")==True)\n",
    "    & (df['MAKETXT'].str.contains(\"AUDIOVOX\")==False)\n",
    "    & (df['MAKETXT'].str.contains(\"JL\")==False)]\n",
    "\n",
    "#Use when you only want SUVs\n",
    "#This is a dirty hodgepodge of random search strings, but had to be done for now...\n",
    "suv_df=mb_df[(df['MODELTXT'].str.contains(\"M CLASS|\"\n",
    "                                         \"M-CLASS|\"\n",
    "                                         \"ML|\"\n",
    "                                         \"GL|\"\n",
    "                                         \"M\")==True)\n",
    "    & (df['MODELTXT'].str.contains(\"GLK|\"\n",
    "                                   \"GLC|\"\n",
    "                                   \"GLA|\"\n",
    "                                   \"MERCEDES|\"\n",
    "                                   \"MATS|\"\n",
    "                                   \"MAT|\"\n",
    "                                   \"BROU|\"\n",
    "                                   \"SMART|\"\n",
    "                                   \"CLA45|\"\n",
    "                                   \"SLR|\"\n",
    "                                   \"S63|\"\n",
    "                                   \"S65|\"\n",
    "                                   \"GT S|\"\n",
    "                                   \"METRIS\")==False)]"
   ]
  },
  {
   "cell_type": "code",
   "execution_count": 43,
   "metadata": {
    "collapsed": false,
    "deletable": true,
    "editable": true
   },
   "outputs": [],
   "source": [
    "df = df.dropna(subset=['Timestamp', 'Year'])"
   ]
  },
  {
   "cell_type": "code",
   "execution_count": 44,
   "metadata": {
    "collapsed": false,
    "deletable": true,
    "editable": true
   },
   "outputs": [
    {
     "data": {
      "text/plain": [
       "<bound method NDFrame.describe of                             POTAFF                                           \\\n",
       "MAKETXT    109S MEDALIST TRAIL A/P 109S PHANTOM AP 112S UNIROYAL LAREDO A/S   \n",
       "Timestamp                                                                     \n",
       "1966-12-31                     NaN             NaN                      NaN   \n",
       "1971-12-31                     NaN             NaN                      NaN   \n",
       "1976-12-31                     NaN             NaN                      NaN   \n",
       "1981-12-31                     NaN             NaN                      NaN   \n",
       "1986-12-31                     NaN             NaN                      NaN   \n",
       "1991-12-31                     NaN             NaN                      NaN   \n",
       "1996-12-31                     NaN             NaN                      NaN   \n",
       "2001-12-31                     NaN             NaN                      NaN   \n",
       "2006-12-31                 46000.0         46000.0                  46000.0   \n",
       "2011-12-31                     NaN             NaN                      NaN   \n",
       "2016-12-31                     NaN             NaN                      NaN   \n",
       "2021-12-31                     NaN             NaN                      NaN   \n",
       "\n",
       "                                                                            \\\n",
       "MAKETXT    114S UNIROYAL LAREDO AWP     3M  4-STAR 4-STAR TRAILERS   4MOMS   \n",
       "Timestamp                                                                    \n",
       "1966-12-31                      NaN    NaN     NaN             NaN     NaN   \n",
       "1971-12-31                      NaN    NaN     NaN             NaN     NaN   \n",
       "1976-12-31                      NaN    NaN     NaN             NaN     NaN   \n",
       "1981-12-31                      NaN    NaN     NaN             NaN     NaN   \n",
       "1986-12-31                      NaN    NaN     NaN             NaN     NaN   \n",
       "1991-12-31                      NaN    NaN     NaN             NaN     NaN   \n",
       "1996-12-31                      NaN    NaN     NaN             NaN     NaN   \n",
       "2001-12-31                      NaN    NaN     NaN             NaN     NaN   \n",
       "2006-12-31                  46000.0    NaN     NaN           330.0     NaN   \n",
       "2011-12-31                      NaN  276.0   296.0          2280.0     NaN   \n",
       "2016-12-31                      NaN    NaN    80.0             9.0  1622.0   \n",
       "2021-12-31                      NaN    NaN  1135.0             NaN     NaN   \n",
       "\n",
       "                               ...                                           \\\n",
       "MAKETXT    6504510106     A&M  ...   ZEMARC     ZEMCO       ZENITH     ZERO   \n",
       "Timestamp                      ...                                            \n",
       "1966-12-31        NaN     NaN  ...      NaN       NaN          NaN      NaN   \n",
       "1971-12-31        NaN     NaN  ...      NaN       NaN          NaN      NaN   \n",
       "1976-12-31        NaN     NaN  ...      NaN       NaN      23096.0      NaN   \n",
       "1981-12-31        NaN     NaN  ...      NaN    4000.0  130500000.0      NaN   \n",
       "1986-12-31      210.0     NaN  ...      NaN       NaN          NaN      NaN   \n",
       "1991-12-31        NaN     NaN  ...      NaN  108617.0          NaN      NaN   \n",
       "1996-12-31        NaN     NaN  ...      NaN       NaN          NaN      NaN   \n",
       "2001-12-31        NaN     NaN  ...      NaN       NaN          NaN      NaN   \n",
       "2006-12-31        NaN     NaN  ...    399.0       NaN          NaN      NaN   \n",
       "2011-12-31        NaN     NaN  ...      NaN       NaN          NaN    640.0   \n",
       "2016-12-31        NaN  5530.0  ...      NaN       NaN          NaN  13475.0   \n",
       "2021-12-31        NaN     NaN  ...      NaN       NaN          NaN    366.0   \n",
       "\n",
       "                                                                          \n",
       "MAKETXT          ZF ZF ELECTRONIC SYSTEMS ZF GROUP ZIEMAN  ZIMMER    ZOX  \n",
       "Timestamp                                                                 \n",
       "1966-12-31      NaN                   NaN      NaN    NaN     NaN    NaN  \n",
       "1971-12-31      NaN                   NaN      NaN    NaN     NaN    NaN  \n",
       "1976-12-31      NaN                   NaN      NaN   35.0     NaN    NaN  \n",
       "1981-12-31      NaN                   NaN      NaN  360.0  5454.0    NaN  \n",
       "1986-12-31      NaN                   NaN      NaN    NaN  1097.0    NaN  \n",
       "1991-12-31      NaN                   NaN      NaN    NaN     NaN    NaN  \n",
       "1996-12-31      NaN                   NaN      NaN    NaN     NaN    NaN  \n",
       "2001-12-31      NaN                   NaN      NaN    NaN     NaN    NaN  \n",
       "2006-12-31  38768.0                   NaN      NaN    NaN     NaN    NaN  \n",
       "2011-12-31    199.0                   NaN   8005.0    NaN     NaN    NaN  \n",
       "2016-12-31    510.0              505000.0  38559.0    NaN     NaN  198.0  \n",
       "2021-12-31      NaN                   NaN      NaN    NaN     NaN    NaN  \n",
       "\n",
       "[12 rows x 2798 columns]>"
      ]
     },
     "execution_count": 44,
     "metadata": {},
     "output_type": "execute_result"
    }
   ],
   "source": [
    "#Unstacking from multiindex series back to dataframe\n",
    "graphdata = df.groupby(by=['Timestamp','MAKETXT'])['POTAFF'].sum()\n",
    "graphdata = graphdata.reset_index().pivot(index='Timestamp', columns='MAKETXT')\n",
    "graphdata.index.to_datetime()\n",
    "\n",
    "#Look at address below for resample docs\n",
    "#http://pandas.pydata.org/pandas-docs/stable/timeseries.html#offset-aliases\n",
    "graphdata = graphdata.resample('5A').sum()\n",
    "\n",
    "graphdata.head()\n",
    "graphdata.describe"
   ]
  },
  {
   "cell_type": "code",
   "execution_count": 45,
   "metadata": {
    "collapsed": false,
    "deletable": true,
    "editable": true,
    "scrolled": true
   },
   "outputs": [
    {
     "data": {
      "text/plain": [
       "\"\\nfig=plt.figure()\\nax=fig.add_subplot(111)\\nN=11\\n\\nAudiData=graphdata['POTAFF,Audi']\\nBMWData=graphdata['POTAFF,BMW']\\n\\nind = np.arange(N)\\nwidth=0.35\\n\\nAudi=ax.bar(ind,AudiData,width,\\n             color='black',\\n             error_kw=dict(elinewidth=2,ecolor='blue'))\\n\\nBMW=ax.bar(ind+width,BMWData,width,\\n             color='blue',\\n             error_kw=dict(elinewidth=2,ecolor='black'))\\n\\nax.set_xlim(-width,len(ind)+width)\\nax.set_ylim(0,40)\\nax.set_ylabel('Number of Vehicles')\\nax.set_title('Number of Vehicles by MB and Market')\\nxTickMarks=['Recall'+str(i) for i in range (1,5)]\\nax.set_xticks(ind+width)\\nxtickNames=ax.set_xticklabels(xTickMarks)\\nplt.setp(xtickNames, rotation=45, fontsize=10)\\n\\nax.legend((Audi[0], BMW[0]), ('MB', 'Market'))\\n\\nplt.show()\\n\\n\""
      ]
     },
     "execution_count": 45,
     "metadata": {},
     "output_type": "execute_result"
    }
   ],
   "source": [
    "'''\n",
    "fig=plt.figure()\n",
    "ax=fig.add_subplot(111)\n",
    "N=11\n",
    "\n",
    "AudiData=graphdata['POTAFF,Audi']\n",
    "BMWData=graphdata['POTAFF,BMW']\n",
    "\n",
    "ind = np.arange(N)\n",
    "width=0.35\n",
    "\n",
    "Audi=ax.bar(ind,AudiData,width,\n",
    "             color='black',\n",
    "             error_kw=dict(elinewidth=2,ecolor='blue'))\n",
    "\n",
    "BMW=ax.bar(ind+width,BMWData,width,\n",
    "             color='blue',\n",
    "             error_kw=dict(elinewidth=2,ecolor='black'))\n",
    "\n",
    "ax.set_xlim(-width,len(ind)+width)\n",
    "ax.set_ylim(0,40)\n",
    "ax.set_ylabel('Number of Vehicles')\n",
    "ax.set_title('Number of Vehicles by MB and Market')\n",
    "xTickMarks=['Recall'+str(i) for i in range (1,5)]\n",
    "ax.set_xticks(ind+width)\n",
    "xtickNames=ax.set_xticklabels(xTickMarks)\n",
    "plt.setp(xtickNames, rotation=45, fontsize=10)\n",
    "\n",
    "ax.legend((Audi[0], BMW[0]), ('MB', 'Market'))\n",
    "\n",
    "plt.show()\n",
    "\n",
    "'''"
   ]
  },
  {
   "cell_type": "code",
   "execution_count": 46,
   "metadata": {
    "collapsed": false,
    "deletable": true,
    "editable": true,
    "scrolled": true
   },
   "outputs": [
    {
     "data": {
      "image/png": "[encoded data removed]",
      "text/plain": [
       "<matplotlib.figure.Figure at 0xf8fae70>"
      ]
     },
     "metadata": {},
     "output_type": "display_data"
    }
   ],
   "source": [
    "#Graphing section\n",
    "ax = graphdata.plot(kind='bar', figsize= (8,5))\n",
    "fig = ax.get_figure()\n",
    "\n",
    "fig.suptitle('Recalled Vehicles over time', fontsize=20)\n",
    "\n",
    "ax.legend(loc=2,prop={'size':6})\n",
    "ax.legend([\"Audi\",\"BMW\",\"Mercedes\"], fontsize=8)\n",
    "\n",
    "ax.set_xlabel(\"Year\", fontsize=12)\n",
    "# Initializes all ticklables as blank\n",
    "xticklabels = ['']*len(graphdata.index)\n",
    "# Every 2nd ticklable shows the year\n",
    "xticklabels[::2] = [item.strftime('%Y') for item in graphdata.index[::2]]\n",
    "ax.xaxis.set_major_formatter(ticker.FixedFormatter(xticklabels))\n",
    "\n",
    "ax.set_ylabel(\"# of Vehicles\", fontsize=12)\n",
    "ax.set_yscale('log')\n",
    "\n",
    "fig.savefig(\"output.pdf\")"
   ]
  },
  {
   "cell_type": "code",
   "execution_count": 47,
   "metadata": {
    "collapsed": false,
    "deletable": true,
    "editable": true
   },
   "outputs": [
    {
     "name": "stderr",
     "output_type": "stream",
     "text": [
      "c:\\program files (x86)\\python36-32\\lib\\site-packages\\ipykernel\\__main__.py:6: SettingWithCopyWarning: \n",
      "A value is trying to be set on a copy of a slice from a DataFrame.\n",
      "Try using .loc[row_indexer,col_indexer] = value instead\n",
      "\n",
      "See the caveats in the documentation: http://pandas.pydata.org/pandas-docs/stable/indexing.html#indexing-view-versus-copy\n"
     ]
    }
   ],
   "source": [
    "#Attempt to make a pie chart showing all suv recall basic types\n",
    "\n",
    "#I'm looking at everything before the first colon in COMPNAME\n",
    "#Sombody might want to look into this error but it didn't make sens\n",
    "# to my 4:30 brain\n",
    "suv_df['COMPNAME'] = suv_df.COMPNAME.apply(lambda x: x[:x.find(\":\")])\n",
    "\n",
    "#Another problem is this will delete fields with no colon haha"
   ]
  },
  {
   "cell_type": "code",
   "execution_count": 48,
   "metadata": {
    "collapsed": false,
    "deletable": true,
    "editable": true
   },
   "outputs": [
    {
     "ename": "ModuleNotFoundError",
     "evalue": "No module named 'openpyxl'",
     "output_type": "error",
     "traceback": [
      "\u001b[1;31m---------------------------------------------------------------------------\u001b[0m",
      "\u001b[1;31mModuleNotFoundError\u001b[0m                       Traceback (most recent call last)",
      "\u001b[1;32m<ipython-input-48-6c9fc4c3e146>\u001b[0m in \u001b[0;36m<module>\u001b[1;34m()\u001b[0m\n\u001b[1;32m----> 1\u001b[1;33m \u001b[0msuv_df\u001b[0m\u001b[1;33m.\u001b[0m\u001b[0mto_excel\u001b[0m\u001b[1;33m(\u001b[0m\u001b[1;34m'comp.xlsx'\u001b[0m\u001b[1;33m)\u001b[0m\u001b[1;33m\u001b[0m\u001b[0m\n\u001b[0m",
      "\u001b[1;32mc:\\program files (x86)\\python36-32\\lib\\site-packages\\pandas\\core\\frame.py\u001b[0m in \u001b[0;36mto_excel\u001b[1;34m(self, excel_writer, sheet_name, na_rep, float_format, columns, header, index, index_label, startrow, startcol, engine, merge_cells, encoding, inf_rep, verbose)\u001b[0m\n\u001b[0;32m   1451\u001b[0m \u001b[1;33m\u001b[0m\u001b[0m\n\u001b[0;32m   1452\u001b[0m         \u001b[1;32mif\u001b[0m \u001b[0misinstance\u001b[0m\u001b[1;33m(\u001b[0m\u001b[0mexcel_writer\u001b[0m\u001b[1;33m,\u001b[0m \u001b[0mcompat\u001b[0m\u001b[1;33m.\u001b[0m\u001b[0mstring_types\u001b[0m\u001b[1;33m)\u001b[0m\u001b[1;33m:\u001b[0m\u001b[1;33m\u001b[0m\u001b[0m\n\u001b[1;32m-> 1453\u001b[1;33m             \u001b[0mexcel_writer\u001b[0m \u001b[1;33m=\u001b[0m \u001b[0mExcelWriter\u001b[0m\u001b[1;33m(\u001b[0m\u001b[0mexcel_writer\u001b[0m\u001b[1;33m,\u001b[0m \u001b[0mengine\u001b[0m\u001b[1;33m=\u001b[0m\u001b[0mengine\u001b[0m\u001b[1;33m)\u001b[0m\u001b[1;33m\u001b[0m\u001b[0m\n\u001b[0m\u001b[0;32m   1454\u001b[0m             \u001b[0mneed_save\u001b[0m \u001b[1;33m=\u001b[0m \u001b[1;32mTrue\u001b[0m\u001b[1;33m\u001b[0m\u001b[0m\n\u001b[0;32m   1455\u001b[0m \u001b[1;33m\u001b[0m\u001b[0m\n",
      "\u001b[1;32mc:\\program files (x86)\\python36-32\\lib\\site-packages\\pandas\\io\\excel.py\u001b[0m in \u001b[0;36m__init__\u001b[1;34m(self, path, engine, **engine_kwargs)\u001b[0m\n\u001b[0;32m    769\u001b[0m \u001b[1;33m\u001b[0m\u001b[0m\n\u001b[0;32m    770\u001b[0m     \u001b[1;32mdef\u001b[0m \u001b[0m__init__\u001b[0m\u001b[1;33m(\u001b[0m\u001b[0mself\u001b[0m\u001b[1;33m,\u001b[0m \u001b[0mpath\u001b[0m\u001b[1;33m,\u001b[0m \u001b[0mengine\u001b[0m\u001b[1;33m=\u001b[0m\u001b[1;32mNone\u001b[0m\u001b[1;33m,\u001b[0m \u001b[1;33m**\u001b[0m\u001b[0mengine_kwargs\u001b[0m\u001b[1;33m)\u001b[0m\u001b[1;33m:\u001b[0m\u001b[1;33m\u001b[0m\u001b[0m\n\u001b[1;32m--> 771\u001b[1;33m         \u001b[1;32mif\u001b[0m \u001b[1;32mnot\u001b[0m \u001b[0mopenpyxl_compat\u001b[0m\u001b[1;33m.\u001b[0m\u001b[0mis_compat\u001b[0m\u001b[1;33m(\u001b[0m\u001b[0mmajor_ver\u001b[0m\u001b[1;33m=\u001b[0m\u001b[0mself\u001b[0m\u001b[1;33m.\u001b[0m\u001b[0mopenpyxl_majorver\u001b[0m\u001b[1;33m)\u001b[0m\u001b[1;33m:\u001b[0m\u001b[1;33m\u001b[0m\u001b[0m\n\u001b[0m\u001b[0;32m    772\u001b[0m             raise ValueError('Installed openpyxl is not supported at this '\n\u001b[0;32m    773\u001b[0m                              \u001b[1;34m'time. Use {0}.x.y.'\u001b[0m\u001b[1;33m\u001b[0m\u001b[0m\n",
      "\u001b[1;32mc:\\program files (x86)\\python36-32\\lib\\site-packages\\pandas\\compat\\openpyxl_compat.py\u001b[0m in \u001b[0;36mis_compat\u001b[1;34m(major_ver)\u001b[0m\n\u001b[0;32m     25\u001b[0m         \u001b[0;31m`\u001b[0m\u001b[0;31m`\u001b[0m\u001b[1;32mFalse\u001b[0m\u001b[0;31m`\u001b[0m\u001b[0;31m`\u001b[0m \u001b[0motherwise\u001b[0m\u001b[1;33m.\u001b[0m\u001b[1;33m\u001b[0m\u001b[0m\n\u001b[0;32m     26\u001b[0m     \"\"\"\n\u001b[1;32m---> 27\u001b[1;33m     \u001b[1;32mimport\u001b[0m \u001b[0mopenpyxl\u001b[0m\u001b[1;33m\u001b[0m\u001b[0m\n\u001b[0m\u001b[0;32m     28\u001b[0m     \u001b[0mver\u001b[0m \u001b[1;33m=\u001b[0m \u001b[0mLooseVersion\u001b[0m\u001b[1;33m(\u001b[0m\u001b[0mopenpyxl\u001b[0m\u001b[1;33m.\u001b[0m\u001b[0m__version__\u001b[0m\u001b[1;33m)\u001b[0m\u001b[1;33m\u001b[0m\u001b[0m\n\u001b[0;32m     29\u001b[0m     \u001b[1;32mif\u001b[0m \u001b[0mmajor_ver\u001b[0m \u001b[1;33m==\u001b[0m \u001b[1;36m1\u001b[0m\u001b[1;33m:\u001b[0m\u001b[1;33m\u001b[0m\u001b[0m\n",
      "\u001b[1;31mModuleNotFoundError\u001b[0m: No module named 'openpyxl'"
     ]
    }
   ],
   "source": [
    "suv_df.to_excel('comp.xlsx')"
   ]
  },
  {
   "cell_type": "code",
   "execution_count": null,
   "metadata": {
    "collapsed": false,
    "deletable": true,
    "editable": true
   },
   "outputs": [],
   "source": [
    "#Unstacking from multiindex series back to dataframe\n",
    "#issuefreq = suv_df.groupby(by=['Timestamp','COMPNAME'])['POTAFF'].sum()\n",
    "#issuefreq = suv_df.groupby(by=['COMPNAME'])['POTAFF'].sum()\n",
    "#issuefreq = issuefreq.reset_index().pivot(index='Timestamp', columns='COMPNAME')\n",
    "#issuefreq.index.to_datetime()\n",
    "\n",
    "#Look at address below for resample docs\n",
    "#http://pandas.pydata.org/pandas-docs/stable/timeseries.html#offset-aliases\n",
    "#issuefreq = issuefreq.resample('W').sum()\n",
    "\n",
    "issuefreq = suv_df.groupby(by=['COMPNAME'])['POTAFF'].sum()\n",
    "issuefreq.sort_values(inplace=True, axis=0, ascending=False)\n",
    "\n",
    "ax2 = issuefreq.plot(kind='bar', figsize= (8,5))\n",
    "fig2 = ax2.get_figure()\n",
    "ax2.set_yscale('log')\n",
    "fig2.savefig(\"output2.pdf\")\n",
    "ax2.set_xlabel(\"Complaint Type\", fontsize=12)\n",
    "ax2.set_ylabel(\"# of Vehicles\", fontsize=12)\n",
    "fig2.suptitle('Vehicles per Recall Category, last 6 Months', fontsize=20)\n",
    "#ax2.set_xticklabels(ax2.xaxis.get_majorticklabels(),rotation=45)\n",
    "\n",
    "#start = issuefreq.index.searchsorted(dt.datetime(2016, 1, 2))\n",
    "#end = issuefreq.index.searchsorted(dt.datetime(2017, 1, 4))\n",
    "#start = pd.datetime(2015, 1, 1)\n",
    "#end = pd.datetime(2016, 1, 1)\n",
    "#drng = pd.bdate_range(start, end, freq='W')\n",
    "\n",
    "#issuefreq.truncate(after='12/31/2016')\n",
    "issuefreq.ix[start:end]"
   ]
  },
  {
   "cell_type": "code",
   "execution_count": null,
   "metadata": {
    "collapsed": true,
    "deletable": true,
    "editable": true
   },
   "outputs": [],
   "source": []
  },
  {
   "cell_type": "code",
   "execution_count": null,
   "metadata": {
    "collapsed": true,
    "deletable": true,
    "editable": true
   },
   "outputs": [],
   "source": []
  }
 ],
 "metadata": {
  "anaconda-cloud": {},
  "kernelspec": {
   "display_name": "Python 3",
   "language": "python",
   "name": "python3"
  },
  "language_info": {
   "codemirror_mode": {
    "name": "ipython",
    "version": 3
   },
   "file_extension": ".py",
   "mimetype": "text/x-python",
   "name": "python",
   "nbconvert_exporter": "python",
   "pygments_lexer": "ipython3",
   "version": "3.6.0"
  }
 },
 "nbformat": 4,
 "nbformat_minor": 1
}
